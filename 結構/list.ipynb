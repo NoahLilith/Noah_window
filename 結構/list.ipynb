{
 "cells": [
  {
   "cell_type": "code",
   "execution_count": 9,
   "metadata": {},
   "outputs": [
    {
     "name": "stdout",
     "output_type": "stream",
     "text": [
      "5\n",
      "<class 'list'>\n"
     ]
    }
   ],
   "source": [
    "l1:list = [2, 4, 6, 8, 10]\n",
    "#查元素的數量\n",
    "print(len(l1))\n",
    "\n",
    "#那一個class建立的實體(資料類型)\n",
    "print(type(l1))"
   ]
  },
  {
   "cell_type": "code",
   "execution_count": 10,
   "metadata": {},
   "outputs": [
    {
     "name": "stdout",
     "output_type": "stream",
     "text": [
      "[2, 4, 6, 8, 10, 12]\n"
     ]
    }
   ],
   "source": [
    "#實體的方法method()\n",
    "l1.append(12)\n",
    "print(l1)"
   ]
  },
  {
   "cell_type": "code",
   "execution_count": 11,
   "metadata": {},
   "outputs": [
    {
     "data": {
      "text/plain": [
       "[2, 4, 6, 8, 10]"
      ]
     },
     "execution_count": 11,
     "metadata": {},
     "output_type": "execute_result"
    }
   ],
   "source": [
    "l1.pop()\n",
    "l1"
   ]
  },
  {
   "cell_type": "code",
   "execution_count": 12,
   "metadata": {},
   "outputs": [
    {
     "name": "stdout",
     "output_type": "stream",
     "text": [
      "2\n",
      "4\n",
      "6\n",
      "8\n",
      "10\n"
     ]
    }
   ],
   "source": [
    "for item in l1:\n",
    "    print(item)"
   ]
  },
  {
   "cell_type": "code",
   "execution_count": 13,
   "metadata": {},
   "outputs": [
    {
     "name": "stdout",
     "output_type": "stream",
     "text": [
      "(0, 2)\n",
      "(1, 4)\n",
      "(2, 6)\n",
      "(3, 8)\n",
      "(4, 10)\n"
     ]
    }
   ],
   "source": [
    "for item in enumerate(l1):\n",
    "    print(item)"
   ]
  },
  {
   "cell_type": "code",
   "execution_count": 14,
   "metadata": {},
   "outputs": [
    {
     "name": "stdout",
     "output_type": "stream",
     "text": [
      "0\n",
      "2\n",
      "===========\n",
      "1\n",
      "4\n",
      "===========\n",
      "2\n",
      "6\n",
      "===========\n",
      "3\n",
      "8\n",
      "===========\n",
      "4\n",
      "10\n",
      "===========\n"
     ]
    }
   ],
   "source": [
    "for index, value in enumerate(l1):\n",
    "    print(index)\n",
    "    print(value)\n",
    "    print(\"===========\")"
   ]
  },
  {
   "cell_type": "code",
   "execution_count": 15,
   "metadata": {},
   "outputs": [
    {
     "name": "stdout",
     "output_type": "stream",
     "text": [
      "[2, 4, 6, 8, 10, 12]\n"
     ]
    }
   ],
   "source": [
    "l1.append(12)\n",
    "print(l1)"
   ]
  },
  {
   "cell_type": "code",
   "execution_count": 16,
   "metadata": {},
   "outputs": [
    {
     "name": "stdout",
     "output_type": "stream",
     "text": [
      "0\n",
      "2\n"
     ]
    }
   ],
   "source": [
    "\n",
    "#tuple的拆解法\n",
    "index, value = 0, 2\n",
    "print(index)\n",
    "print(value)"
   ]
  },
  {
   "cell_type": "code",
   "execution_count": 17,
   "metadata": {},
   "outputs": [
    {
     "data": {
      "text/plain": [
       "[2, 4, 6, 8, 10]"
      ]
     },
     "execution_count": 17,
     "metadata": {},
     "output_type": "execute_result"
    }
   ],
   "source": [
    "l1.pop()\n",
    "l1"
   ]
  },
  {
   "cell_type": "code",
   "execution_count": 20,
   "metadata": {},
   "outputs": [
    {
     "name": "stdout",
     "output_type": "stream",
     "text": [
      "2 4 6 8 10\n",
      "索引編號,超出範圍\n"
     ]
    }
   ],
   "source": [
    "print(l1[0],end=' ')\n",
    "print(l1[1],end=' ')\n",
    "print(l1[2],end=' ')\n",
    "print(l1[3],end=' ')\n",
    "print(l1[4])\n",
    "try:\n",
    "    print(l1[5])\n",
    "except IndexError:\n",
    "    print(\"索引編號,超出範圍\")\n",
    "except Exception as e:\n",
    "    print(f\"不知名的錯誤:{e}\")\n"
   ]
  },
  {
   "cell_type": "code",
   "execution_count": 21,
   "metadata": {},
   "outputs": [
    {
     "name": "stdout",
     "output_type": "stream",
     "text": [
      "N\n",
      "o\n",
      "a\n",
      "h\n",
      " \n",
      "H\n",
      "s\n",
      "i\n",
      "a\n",
      "o\n"
     ]
    }
   ],
   "source": [
    "name:str = \"Noah Hsiao\"\n",
    "for word in name:\n",
    "    print(word)"
   ]
  },
  {
   "cell_type": "code",
   "execution_count": 22,
   "metadata": {},
   "outputs": [
    {
     "data": {
      "text/plain": [
       "'N'"
      ]
     },
     "execution_count": 22,
     "metadata": {},
     "output_type": "execute_result"
    }
   ],
   "source": [
    "#[index]\n",
    "name[0]"
   ]
  },
  {
   "cell_type": "code",
   "execution_count": 23,
   "metadata": {},
   "outputs": [
    {
     "name": "stdout",
     "output_type": "stream",
     "text": [
      "Noah H\n",
      "Noah H\n"
     ]
    }
   ],
   "source": [
    "#[slice]\n",
    "print(name[0:6])\n",
    "print(name[:6]) #前6個"
   ]
  },
  {
   "cell_type": "code",
   "execution_count": 24,
   "metadata": {},
   "outputs": [
    {
     "name": "stdout",
     "output_type": "stream",
     "text": [
      "ia\n",
      "iao\n"
     ]
    }
   ],
   "source": [
    "#[slice]\n",
    "print(name[-3:-1])\n",
    "print(name[-3:]) #取最後3個"
   ]
  }
 ],
 "metadata": {
  "kernelspec": {
   "display_name": "venv1",
   "language": "python",
   "name": "python3"
  },
  "language_info": {
   "codemirror_mode": {
    "name": "ipython",
    "version": 3
   },
   "file_extension": ".py",
   "mimetype": "text/x-python",
   "name": "python",
   "nbconvert_exporter": "python",
   "pygments_lexer": "ipython3",
   "version": "3.12.3"
  }
 },
 "nbformat": 4,
 "nbformat_minor": 2
}
