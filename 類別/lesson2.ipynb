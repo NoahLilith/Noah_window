{
 "cells": [
  {
   "cell_type": "code",
   "execution_count": 7,
   "metadata": {},
   "outputs": [
    {
     "name": "stdout",
     "output_type": "stream",
     "text": [
      "<class '__main__.Person'>\n",
      "p1.name=Lilith\n",
      "<class '__main__.Person'>\n",
      "p2.name=Noah\n"
     ]
    }
   ],
   "source": [
    "class Person():\n",
    "    def __init__(self,n:str):\n",
    "        self.name = n\n",
    "\n",
    "p1:Person = Person(\"Lilith\")\n",
    "print(type(p1))\n",
    "print(f\"p1.name={p1.name}\")\n",
    "\n",
    "p2:Person = Person(\"Noah\")\n",
    "print(type(p2))\n",
    "print(f\"p2.name={p2.name}\")"
   ]
  },
  {
   "cell_type": "code",
   "execution_count": 8,
   "metadata": {},
   "outputs": [
    {
     "name": "stdout",
     "output_type": "stream",
     "text": [
      "Lilith\n",
      "270\n",
      "Noah\n",
      "250\n"
     ]
    }
   ],
   "source": [
    "class Student(Person):\n",
    "    def __init__(self,name:str,s:int):\n",
    "        super().__init__(n=name)\n",
    "        self.scores = s\n",
    "\n",
    "s1 = Student(name=\"Lilith\",s=270)\n",
    "print(s1.name)\n",
    "print(s1.scores)\n",
    "\n",
    "s2 = Student(name=\"Noah\",s=250)\n",
    "print(s2.name)\n",
    "print(s2.scores)"
   ]
  }
 ],
 "metadata": {
  "kernelspec": {
   "display_name": "venv1",
   "language": "python",
   "name": "python3"
  },
  "language_info": {
   "codemirror_mode": {
    "name": "ipython",
    "version": 3
   },
   "file_extension": ".py",
   "mimetype": "text/x-python",
   "name": "python",
   "nbconvert_exporter": "python",
   "pygments_lexer": "ipython3",
   "version": "3.12.3"
  }
 },
 "nbformat": 4,
 "nbformat_minor": 2
}
