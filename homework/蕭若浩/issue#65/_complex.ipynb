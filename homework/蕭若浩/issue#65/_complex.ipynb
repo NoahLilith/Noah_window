{
 "cells": [
  {
   "cell_type": "code",
   "execution_count": 1,
   "metadata": {},
   "outputs": [
    {
     "data": {
      "text/plain": [
       "[['noah', 78, 92, 65], ['lilith', 65, 96, 72], ['ao', 85, 72, 95]]"
      ]
     },
     "execution_count": 1,
     "metadata": {},
     "output_type": "execute_result"
    }
   ],
   "source": [
    "students:list[list]= [\n",
    "                        ['noah',78,92,65],\n",
    "                        ['lilith',65,96,72],\n",
    "                        ['ao',85,72,95]\n",
    "                    ]\n",
    "\n",
    "students"
   ]
  },
  {
   "cell_type": "code",
   "execution_count": 1,
   "metadata": {},
   "outputs": [],
   "source": [
    "students:list[dict] = [\n",
    "    {'name':'noah','chinese':70,'english':80,'math':60},\n",
    "    {'name':'lilith','chinese':92,'english':95,'math':90},\n",
    "    {'name':'van','chinese':60,'english':70,'math':80}\n",
    "]"
   ]
  }
 ],
 "metadata": {
  "kernelspec": {
   "display_name": "venv1",
   "language": "python",
   "name": "python3"
  },
  "language_info": {
   "codemirror_mode": {
    "name": "ipython",
    "version": 3
   },
   "file_extension": ".py",
   "mimetype": "text/x-python",
   "name": "python",
   "nbconvert_exporter": "python",
   "pygments_lexer": "ipython3",
   "version": "3.12.3"
  }
 },
 "nbformat": 4,
 "nbformat_minor": 2
}
